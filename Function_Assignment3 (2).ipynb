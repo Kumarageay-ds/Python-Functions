{
  "nbformat": 4,
  "nbformat_minor": 0,
  "metadata": {
    "colab": {
      "provenance": []
    },
    "kernelspec": {
      "name": "python3",
      "display_name": "Python 3"
    },
    "language_info": {
      "name": "python"
    }
  },
  "cells": [
    {
      "cell_type": "markdown",
      "source": [
        "# FUNCTION Assignment and Solutions"
      ],
      "metadata": {
        "id": "VYwurhA7jZE6"
      }
    },
    {
      "cell_type": "markdown",
      "source": [
        "Q1.What is the difference between a function and a method in Python?\n",
        "\n",
        "**Function**\n",
        "\n",
        ">A function is a block of reusable code.\n",
        "\n",
        ">Defined using def or lambda.\n",
        "\n",
        ">Independent and not tied to any object.\n",
        "\n",
        ">Called directly by its name.\n",
        "\n",
        "**Method**\n",
        "\n",
        ">A method is a function that belongs to a class or object.\n",
        "\n",
        ">It always has self as the first parameter (which represents the object).\n",
        "\n",
        ">Called using dot notation object.method().\n",
        "\n",
        "   ### Explanation:\n",
        "\n",
        "\n",
        "| Feature        | Function                  | Method                       |\n",
        "| -------------- | ------------------------- | ---------------------------- |\n",
        "| Belongs to     | Independent               | Belongs to object/class      |\n",
        "| Call style     | `function(args)`          | `object.method(args)`        |\n",
        "| First argument | Normal arguments only     | Always includes `self`       |\n",
        "| Example        | `len([1,2,3])` (function) | `[1,2,3].append(4)` (method) |\n",
        "\n",
        "\n",
        "                    \n",
        "           "
      ],
      "metadata": {
        "id": "1l-3khiyn98l"
      }
    },
    {
      "cell_type": "code",
      "source": [
        "# FUNCTION EXAMPLE\n",
        "def add(a, b):\n",
        "    return a + b\n",
        "\n",
        "print(add(5, 3))  # Output: 8\n",
        "\n",
        "\n",
        "\n",
        "\n",
        "# METHOD FUNCTION\n",
        "class Calculator:\n",
        "    def add(self, a, b):   # method\n",
        "        return a + b\n",
        "\n",
        "calc = Calculator()\n",
        "print(calc.add(5, 3))  # Output: 8\n"
      ],
      "metadata": {
        "colab": {
          "base_uri": "https://localhost:8080/"
        },
        "id": "Cw0SkhZTqKt0",
        "outputId": "346ad255-a128-43e9-d66d-de5f9bfbdd9c"
      },
      "execution_count": null,
      "outputs": [
        {
          "output_type": "stream",
          "name": "stdout",
          "text": [
            "8\n",
            "8\n"
          ]
        }
      ]
    },
    {
      "cell_type": "markdown",
      "source": [
        "Q2.Explain the concept of function arguments and parameters in Python?\n",
        "  - EXPLANATION:\n",
        "\n",
        "**Parameters**\n",
        "\n",
        "Parameters are the variables defined inside the function’s parentheses.\n",
        "They act as placeholders for values that will be passed when the function is called.\n",
        "\n",
        "**Arguments**\n",
        "\n",
        "Arguments are the actual values you provide to a function when calling it.\n",
        "These values are assigned to the function’s parameters.\n",
        "\n",
        "• Arguments → Actual values passed to the function when it is called.\n",
        "\n",
        "• Python supports different types of arguments:\n",
        "\n",
        ">Positional Arguments → values in same order as parameters\n",
        "\n",
        ">Keyword Arguments → specify names while passing\n",
        "\n",
        ">Default Arguments → parameters with default values\n",
        "\n",
        ">Variable-Length Arguments → *args and **kwargs\n",
        "\n",
        "\n",
        "**EXAMPLE**:"
      ],
      "metadata": {
        "id": "lMW5QFi0rm_q"
      }
    },
    {
      "cell_type": "code",
      "source": [
        "# Function with parameters\n",
        "def greet():\n",
        "    print(\"Hello World\")\n",
        "\n",
        "greet()\n",
        "\n",
        "# Positional argument\n",
        "def add(a, b):\n",
        "    return a + b\n",
        "\n",
        "print(add(5, 3))   # Output: 8\n",
        "\n",
        "\n",
        "# Keyword argument\n",
        "def student(name, age):\n",
        "    print(name, \"is\", age, \"years old\")\n",
        "\n",
        "student(age=20, name=\"Aditi\")\n",
        "\n",
        "\n",
        "# Default argument\n",
        "def greet(name=\"Guest\"):\n",
        "    print(\"Hello\", name)\n",
        "\n",
        "greet()           # Output: Hello Guest\n",
        "greet(\"Kumar\")    # Output: Hello Kumar\n",
        "\n",
        "#Variable-Length Arguments\n",
        "\n",
        "def demo(*args, **kwargs):\n",
        "    print(\"args:\", args)\n",
        "    print(\"kwargs:\", kwargs)\n",
        "\n",
        "demo(1, 2, 3, name=\"Aman\", age=22)\n",
        "\n"
      ],
      "metadata": {
        "colab": {
          "base_uri": "https://localhost:8080/"
        },
        "id": "E8lqbA2utCsv",
        "outputId": "691d5366-1687-4a5d-9150-b35f61356589"
      },
      "execution_count": null,
      "outputs": [
        {
          "output_type": "stream",
          "name": "stdout",
          "text": [
            "Hello World\n",
            "8\n",
            "Aditi is 20 years old\n",
            "Hello Guest\n",
            "Hello Kumar\n",
            "args: (1, 2, 3)\n",
            "kwargs: {'name': 'Aman', 'age': 22}\n"
          ]
        }
      ]
    },
    {
      "cell_type": "markdown",
      "source": [
        "Q3.What are the different ways to define and call a function in Python?\n",
        "  - EXPLANATION:\n",
        "\n",
        "  - **Functions** are reusable blocks of code that perform a specific task. In Python, you can define and call functions in multiple ways:\n",
        "\n",
        "  - 1. **Standard** **function** **(def)**\n",
        "        - Defined using the def keyword.\n",
        "\n",
        "        - Can accept parameters and return values.\n",
        "\n",
        "     - 2. **Lambda** **function**\n",
        "        - Also called an anonymous function.\n",
        "        - Defined using lambda keyword, usually for simple, single-line tasks.   \n",
        "\n",
        "     - 3. **Nested** **function**\n",
        "           - A function defined inside another function.\n",
        "\n",
        "           - Useful for encapsulation and keeping helper functions local to the outer function.\n",
        "\n",
        "          - Calling a function involves using its name followed by parentheses ().\n",
        "\n",
        "          - Arguments can be passed when calling functions to provide input values.      \n",
        "\n",
        "\n",
        " **EXAMPLE**:\n",
        "\n",
        "\n"
      ],
      "metadata": {
        "id": "yYPgLke5uZam"
      }
    },
    {
      "cell_type": "code",
      "source": [
        "# 1. Standard Function\n",
        "def greet (name):\n",
        "  return f\"Hello {name}!\"\n",
        "print(greet(\"Kumar\"))\n",
        "\n",
        "# 2. Lambda Function\n",
        "square = lambda x: x**2\n",
        "print(square(5))\n",
        "\n",
        "# 3. Nested Function\n",
        "def outer():\n",
        "  def inner():\n",
        "    return \"This is a nested function inside outer\"\n",
        "  return inner()\n",
        "\n",
        "print(outer())"
      ],
      "metadata": {
        "colab": {
          "base_uri": "https://localhost:8080/"
        },
        "id": "DqU038Y5xKpA",
        "outputId": "51221b61-0bc0-4aae-daeb-fb9ef8cf1a45"
      },
      "execution_count": null,
      "outputs": [
        {
          "output_type": "stream",
          "name": "stdout",
          "text": [
            "Hello Kumar!\n",
            "25\n",
            "This is a nested function inside outer\n"
          ]
        }
      ]
    },
    {
      "cell_type": "markdown",
      "source": [
        "Q4.What is the purpose of the `return` statement in a Python function?\n",
        "\n",
        "  - **EXPLANATION**:\n",
        "\n",
        "  - The return statement in Python is used to send a value back from a function to the caller.\n",
        "\n",
        "  - It ends the function execution and gives a result.\n",
        "\n",
        "  - Without return, a function returns None by default\n",
        "\n",
        "  - return allows functions to produce a value that can be stored, printed, or used in other operations.\n",
        "\n",
        "  - It also helps in breaking out of a function immediately.\n",
        "  \n",
        "\n",
        "  **EXAMPLE**:"
      ],
      "metadata": {
        "id": "_uk7dpabzGuP"
      }
    },
    {
      "cell_type": "code",
      "source": [
        "# Function using return\n",
        "def greet (name):\n",
        "  return f\"Hello {name}!\"\n",
        "\n",
        "# Using the returned value\n",
        "message = greet (\"Kumar Ageay\")\n",
        "print(message)\n",
        "\n",
        "# Function without return\n",
        "def greet_no_return(name):\n",
        "  print(f\"Hello {name}!\")"
      ],
      "metadata": {
        "colab": {
          "base_uri": "https://localhost:8080/"
        },
        "id": "j1zWdvN_0Eng",
        "outputId": "6e31926e-e61b-4178-e92a-8ae2d5b537a1"
      },
      "execution_count": null,
      "outputs": [
        {
          "output_type": "stream",
          "name": "stdout",
          "text": [
            "Hello Kumar Ageay!\n"
          ]
        }
      ]
    },
    {
      "cell_type": "markdown",
      "source": [
        "Q5.What are iterators in Python and how do they differ from iterables?\n",
        "  - EXPLANATION:\n",
        "\n",
        "  - Iterable: Any Python object capable of returning its elements one by one, e.g., list, tuple, string, set, or dictionary.\n",
        "\n",
        "  -You can loop over it using a for loop.\n",
        "\n",
        "  - Iterator: An object that produces elements one at a time and keeps track of its current position.\n",
        "\n",
        "  - Created from an iterable using the iter() function.\n",
        "  - Use next() to access elements individually.\n",
        "\n",
        "   **Key**  **Differences** **Between** **Iterable** **and** **lterator**\n",
        "          \n",
        "           \n",
        "\n",
        "| Aspect       | Iterable                                      | Iterator                                         |\n",
        "|--------------|-----------------------------------------------|-------------------------------------------------|\n",
        "| Definition   | Can be looped over to access elements         | Produces elements one by one on demand          |\n",
        "| Object type  | Any collection type (list, tuple, etc)        | Created from an iterable using iter()         |\n",
        "| Access       | Use for loop                                | Use next() function                           |\n",
        "| Exhaustible  | No                                            | Yes, once traversed, cannot be reused           |\n",
        "\n",
        "\n",
        "\n",
        "\n",
        "**EXAMPLE**:\n"
      ],
      "metadata": {
        "id": "MB1lAhcN1Lix"
      }
    },
    {
      "cell_type": "code",
      "source": [
        "# Iterable example\n",
        "fruits = [\"apple\", \"banana\", \"cherry\"] # This is an iterable\n",
        "print(\"Iterable output:\")\n",
        "for fruit in fruits:\n",
        "    print(fruit)\n",
        "\n",
        "# Iterator example\n",
        "fruits_iter = iter(fruits)\n",
        "# Convert iterable to iterator\n",
        "print(\"\\nIterator output using next():\")\n",
        "print(next(fruits_iter))\n",
        "print(next(fruits_iter))\n",
        "print(next(fruits_iter))"
      ],
      "metadata": {
        "colab": {
          "base_uri": "https://localhost:8080/"
        },
        "id": "jElnpEa-3VaE",
        "outputId": "f4b3eeb1-a042-440e-b8db-a6cb084916f3"
      },
      "execution_count": null,
      "outputs": [
        {
          "output_type": "stream",
          "name": "stdout",
          "text": [
            "Iterable output:\n",
            "apple\n",
            "banana\n",
            "cherry\n",
            "\n",
            "Iterator output using next():\n",
            "apple\n",
            "banana\n",
            "cherry\n"
          ]
        }
      ]
    },
    {
      "cell_type": "markdown",
      "source": [
        "Q6.Explain the concept of generators in Python and how they are defined?\n",
        "  - EXPLANATION:\n",
        "  - **Generators** are special **iterators** that **generate values on the fly** instead of storing them in memory.\n",
        "  - They are **memory**-**efficient** and useful for large datasets or streams of data.\n",
        "  - Generators are defined in two main ways:\n",
        "\n",
        "          1.Using a function with the yield statement.\n",
        "          2.Using generator  expressions (similar to list comprehensions but with parentheses).\n",
        "\n",
        "\n",
        "   - Each call to next() on a generator produces the **next value** until the generator is   \n",
        "\n",
        "\n",
        "\n",
        "**EXAMPLE** **USING** **YIELD**:     \n"
      ],
      "metadata": {
        "id": "2EH3FXoO4WqF"
      }
    },
    {
      "cell_type": "code",
      "source": [
        "# Generator function\n",
        "def greet_generator(names):\n",
        "  for name in names:\n",
        "    yield f\"Hello {name}!\"\n",
        "\n",
        "names_list = [\"Kumar Ageay\", \"Suraj\", \"Sakshi\"]\n",
        "\n",
        "# Create generator\n",
        "gen = greet_generator(names_list)\n",
        "# Access values one by one\n",
        "print(next(gen))\n",
        "print(next(gen))\n",
        "print(next(gen))\n",
        "print(list(names_list)) #for calling all the elements\n",
        "\n"
      ],
      "metadata": {
        "colab": {
          "base_uri": "https://localhost:8080/"
        },
        "id": "hp3vXL258kyC",
        "outputId": "24a4009d-97ae-4bd8-f743-3da1c4488e33"
      },
      "execution_count": null,
      "outputs": [
        {
          "output_type": "stream",
          "name": "stdout",
          "text": [
            "Hello Kumar Ageay!\n",
            "Hello Suraj!\n",
            "Hello Sakshi!\n",
            "['Kumar Ageay', 'Suraj', 'Sakshi']\n"
          ]
        }
      ]
    },
    {
      "cell_type": "markdown",
      "source": [
        "**EXAMPLE USING GENERATOR EXPRESSION**:"
      ],
      "metadata": {
        "id": "Gd_-NIG991sj"
      }
    },
    {
      "cell_type": "code",
      "source": [
        "# Generator expression\n",
        "squares = (x**2 for x in range(1, 4))\n",
        "print(next(squares))\n",
        "print (next(squares))\n",
        "\n",
        "print(next(squares))"
      ],
      "metadata": {
        "colab": {
          "base_uri": "https://localhost:8080/"
        },
        "id": "HwAKlHyB9_Jt",
        "outputId": "9d1d193c-fa41-4e1a-f170-cbf4cf9cabf2"
      },
      "execution_count": null,
      "outputs": [
        {
          "output_type": "stream",
          "name": "stdout",
          "text": [
            "1\n",
            "4\n",
            "9\n"
          ]
        }
      ]
    },
    {
      "cell_type": "markdown",
      "source": [
        "Q7.What are the advantages of using generators over regular functions?\n",
        "  - EXPLANATION:\n",
        "  Generators provide several advantages over regular functions that return lists:\n",
        "  \n",
        "  1.**Memory Efficiency**\n",
        "\n",
        "\n",
        "  - Generators produce values one at a time and do not store the entire sequence in memory.\n",
        "\n",
        "  - Useful for large datasets.\n",
        "\n",
        "\n",
        "  2.**Lazy Evaluation**\n",
        "   \n",
        "   - Values are computed only when needed using next () .\n",
        "\n",
        "- Reduces unnecessary computations.\n",
        "\n",
        "3.**Represent Infinite Sequences**\n",
        "  - Generators can model infinite series (like Fibonacci numbers) which is impossible with\n",
        "\n",
        "  4.**Pipeline Processing**\n",
        "\n",
        "  - Generators can be chained together to create pipelines, processing data efficiently.\n",
        "\n",
        "\n",
        "  **EXAMPLE**:"
      ],
      "metadata": {
        "id": "2wG1MyS5-bfo"
      }
    },
    {
      "cell_type": "code",
      "source": [
        "# Generator function\n",
        "def greet_generator (names) :\n",
        "  for name in names:\n",
        "    yield f\"Hello {name}!\"\n",
        "names_list = [\"Abhishek\", \"Toshi\", \"Rihu\"]\n",
        "gen = greet_generator(names_list)\n",
        "print(next(gen))\n",
        "print(next(gen))\n",
        "print(next(gen))\n",
        "\n",
        "# Memory efficiency demonstration\n",
        "numbers = (x**2 for x in range(1, 1000000)) # Generator for 1 million squares\n",
        "print(next(numbers))\n",
        "print(next(numbers))\n",
        "print(next(numbers))\n"
      ],
      "metadata": {
        "colab": {
          "base_uri": "https://localhost:8080/"
        },
        "id": "SEw8U-IIA0VO",
        "outputId": "f0eafa9e-5f33-4f2a-a10b-9a74e05f7c1f"
      },
      "execution_count": null,
      "outputs": [
        {
          "output_type": "stream",
          "name": "stdout",
          "text": [
            "Hello Abhishek!\n",
            "Hello Toshi!\n",
            "Hello Rihu!\n",
            "1\n",
            "4\n",
            "9\n"
          ]
        }
      ]
    },
    {
      "cell_type": "markdown",
      "source": [
        "Q8.What is a lambda function in Python and when is it typically used?\n",
        "  - EXPLANATION:\n",
        "\n",
        "  - They are defined using the **lambda keyword**, followed by arguments and a single **expression**.\n",
        "\n",
        "- Lambda functions are commonly used when you need a small, temporary function without cluttering your code.\n",
        "\n",
        "- Typical use cases include **functional programming, inline operations**, and passing functions as **arguments to higher-order functions** like map (), filter (), or sorted ().\n",
        "\n",
        "- **Advantages**: concise, readable for small operations, and memory-efficient since they don't require a full function definition.\n",
        "\n",
        "\n",
        "**SYNTAX**:\n",
        "        \n",
        "        Lambda arguments expression\n",
        "\n",
        " **CHARACTERISTICS & USSAGE**:\n",
        "\n",
        " - **Concise** - Perfect for small, one-off operations.\n",
        "\n",
        "- **Inline** — Can be defined and used in a single line.\n",
        "\n",
        "- **Functional programming** - Ideal for passing as arguments to functions like map (), filter(), or reduce().\n",
        "\n",
        "- **Single expression only** - Cannot contain multiple statements or complex logic.\n",
        "- **Temporary & lightweight** - Great for quick tasks without cluttering your code with full function definitions.  \n",
        "     \n",
        "\n",
        "**EXAMPLE 1:BASIC LAMBDA**"
      ],
      "metadata": {
        "id": "5Vn_OvIVxBeX"
      }
    },
    {
      "cell_type": "code",
      "source": [
        "# Lambda to greet Abhishek\n",
        "greet = lambda name: f\"Hello {name}!\"\n",
        "print(greet(\"Abhishek\"))"
      ],
      "metadata": {
        "colab": {
          "base_uri": "https://localhost:8080/"
        },
        "id": "ov3X_ofz10o4",
        "outputId": "aba9aeb7-bb44-4726-96ad-f9106060a4f1"
      },
      "execution_count": null,
      "outputs": [
        {
          "output_type": "stream",
          "name": "stdout",
          "text": [
            "Hello Abhishek!\n"
          ]
        }
      ]
    },
    {
      "cell_type": "markdown",
      "source": [
        "**EXAMPLE 2:LAMBDA WITH MAP()**"
      ],
      "metadata": {
        "id": "QNkAgfnk4DSp"
      }
    },
    {
      "cell_type": "code",
      "source": [
        "numbers = [1, 2, 3, 4, 5]\n",
        "# Square each number using lambda\n",
        "squares = list(map(lambda x: x**2, numbers))\n",
        "print(squares)\n"
      ],
      "metadata": {
        "colab": {
          "base_uri": "https://localhost:8080/"
        },
        "id": "YPkqmylZ4OuW",
        "outputId": "b5dea69d-e756-41ee-803b-6c163a940df5"
      },
      "execution_count": null,
      "outputs": [
        {
          "output_type": "stream",
          "name": "stdout",
          "text": [
            "[1, 4, 9, 16, 25]\n"
          ]
        }
      ]
    },
    {
      "cell_type": "markdown",
      "source": [
        "**EXAMPLE 3:LAMBDA WITH FILTER()**"
      ],
      "metadata": {
        "id": "bT8FkuND4jTt"
      }
    },
    {
      "cell_type": "code",
      "source": [
        "# Filter numbers greater than 2\n",
        "filtered = list(filter(lambda x: x > 2, numbers))\n",
        "print(filtered)"
      ],
      "metadata": {
        "colab": {
          "base_uri": "https://localhost:8080/"
        },
        "id": "shnDPgu94vCs",
        "outputId": "dd05c632-1390-4e32-f386-991affc9ef1e"
      },
      "execution_count": null,
      "outputs": [
        {
          "output_type": "stream",
          "name": "stdout",
          "text": [
            "[3, 4, 5]\n"
          ]
        }
      ]
    },
    {
      "cell_type": "markdown",
      "source": [
        "**EXAMPLE 4:LAMBDA WITH REDUCE()**"
      ],
      "metadata": {
        "id": "MXBSkLYg5DZu"
      }
    },
    {
      "cell_type": "code",
      "source": [
        "from functools import reduce\n",
        "\n",
        "# Sum all numbers using reduce and lambda\n",
        "total = reduce(lambda x, y: x + y, numbers)\n",
        "print(total)"
      ],
      "metadata": {
        "colab": {
          "base_uri": "https://localhost:8080/"
        },
        "id": "nDcEa8sq5QJB",
        "outputId": "96aa795a-b003-4287-e53f-986159145177"
      },
      "execution_count": null,
      "outputs": [
        {
          "output_type": "stream",
          "name": "stdout",
          "text": [
            "15\n"
          ]
        }
      ]
    },
    {
      "cell_type": "markdown",
      "source": [
        "Q9.Explain the purpose and usage of the `map()` function in Python?\n",
        "  - EXPLANATION:\n",
        "\n",
        "- The map() function applies a given function to each item of an iterable (like a list, tuple, etc.) and returns a map object, which is an iterator.\n",
        "\n",
        "- Useful when you want to perform the same operation on multiple items without using a loop.\n",
        "\n",
        "- Lazy evaluation: the values are computed only when iterated, saving memory for large datasets.\n",
        "\n",
        "\n",
        "**COMMON USES OF MAP()**:\n",
        "\n",
        "- Transforming all elements in a list/tuple without using a loop.\n",
        "- Applying mathematical operations to all elements.\n",
        "- Preprocessing or cleaning data in bulk, e.g., converting strings to uppercase.\n",
        "- Chaining with filter() or reduce() for functional programming pipelines.\n",
        "- Syntax:\n",
        "\n",
        "   - map(function, iterable)\n",
        "\n",
        "\n",
        "  **EXAMPPLE 1:BASIC MAP WITH A NAMEDD FUNCTION**"
      ],
      "metadata": {
        "id": "RDb66PJw5ber"
      }
    },
    {
      "cell_type": "code",
      "source": [
        "# Function to greet a person\n",
        "def greet(name):\n",
        "  return f\"Hello {name}!\"\n",
        "names = [\"Abhishek\", \"Alex\", \"Maya\"]\n",
        "# Apply greet function to each name\n",
        "greetings = map(greet, names)\n",
        "# Convert to list and print\n",
        "print(list(greetings))"
      ],
      "metadata": {
        "colab": {
          "base_uri": "https://localhost:8080/"
        },
        "id": "c0wb4aBK7I4E",
        "outputId": "99061224-9e77-482e-a571-e119647c425c"
      },
      "execution_count": null,
      "outputs": [
        {
          "output_type": "stream",
          "name": "stdout",
          "text": [
            "['Hello Abhishek!', 'Hello Alex!', 'Hello Maya!']\n"
          ]
        }
      ]
    },
    {
      "cell_type": "markdown",
      "source": [
        "**EXAMPLE 2:MAP WITH LAMBDA FUNCTION**"
      ],
      "metadata": {
        "id": "_9g8mwyh7aNF"
      }
    },
    {
      "cell_type": "code",
      "source": [
        "numbers = [1, 2, 3, 4, 5]\n",
        "# Square each number using lambda and map\n",
        "squared = map(lambda x: x**2, numbers)\n",
        "print(list(squared) )\n"
      ],
      "metadata": {
        "colab": {
          "base_uri": "https://localhost:8080/"
        },
        "id": "eUt8Ueen7h9p",
        "outputId": "3be46603-171e-4f2b-ebd1-16617b2a986d"
      },
      "execution_count": null,
      "outputs": [
        {
          "output_type": "stream",
          "name": "stdout",
          "text": [
            "[1, 4, 9, 16, 25]\n"
          ]
        }
      ]
    },
    {
      "cell_type": "markdown",
      "source": [
        "**EXAMPLE 3:MAP WITH MULTIPLE ITERABLES**"
      ],
      "metadata": {
        "id": "M68hKB2T7qng"
      }
    },
    {
      "cell_type": "code",
      "source": [
        "numbers1 = [1, 2, 3]\n",
        "numbers2 = [4, 5, 6]\n",
        "# Add corresponding elements from two lists\n",
        "sum_list = map(lambda x, y: x + y, numbers1, numbers2)\n",
        "print(list(sum_list))\n"
      ],
      "metadata": {
        "colab": {
          "base_uri": "https://localhost:8080/"
        },
        "id": "yjxg65Cz7zNu",
        "outputId": "41fc6a63-1c32-41e6-8c3a-3a92c15efd38"
      },
      "execution_count": null,
      "outputs": [
        {
          "output_type": "stream",
          "name": "stdout",
          "text": [
            "[5, 7, 9]\n"
          ]
        }
      ]
    },
    {
      "cell_type": "markdown",
      "source": [
        "Q10.What is the difference between `map()`, `reduce()`, and `filter()` functions in Python?\n",
        "- EXPLANATION:\n",
        "\n",
        "Python provides built-in functional programming tools like map (), reduce(), and filter() to process iterables efficiently:\n",
        "\n",
        "**Function: map()**\n",
        "**Purpose**: Applies a function to each item in an iterable\n",
        "\n",
        "**Returns**: Map object (iterator)\n",
        "\n",
        "⸻\n",
        "\n",
        "**Function: reduce()**\n",
        "**Purpose**: Applies a function cumulatively to items of an iterable, reducing it to a single value\n",
        "\n",
        "**Returns**: Single value\n",
        "\n",
        "⸻\n",
        "\n",
        "**Function: filter()**\n",
        "**Purpose**: Selects elements that meet a condition\n",
        "\n",
        "**Returns**: Filter object (iterator)\n",
        "\n",
        "\n",
        "**KEY DIFFERENCES**:\n",
        "\n",
        "1.**PURPOSE**:\n",
        "\n",
        "\n",
        "           - map() → changes/transforms every element in an iterable.\n",
        "\n",
        "           - filter() → chooses only certain elements that satisfy a condition.\n",
        "\n",
        "           - reduce() → combines all elements to produce a single result.\n",
        "\n",
        "2.**RETURN TYPE**:\n",
        "       \n",
        "            - map() and filter() return iterators, which can be converted to a list. o reduce () returns a single value.\n",
        "\n",
        "3.**NUMBER OF ITERABLES**\n",
        "\n",
        "                  -  map () can work with one or more iterables.\n",
        "                  - filter() works with one iterable.\n",
        "                  - reduce() works with one iterable.\n",
        "\n",
        "4.**USE CASE EXAMPLE**\n",
        "\n",
        "                   - o map() → Transforming [1,2,3] into [1,4,9] (squares).\n",
        "                   - filter() → Picking [3,4,5] from [1,2,3,4,5] (numbers >2).\n",
        "                   - reduce() → Summing [1,2, 3,4,5] into 15.\n",
        "\n",
        "\n",
        " **EXAMPLE 1:MAP()**                  "
      ],
      "metadata": {
        "id": "2LnpZqcm8ERl"
      }
    },
    {
      "cell_type": "code",
      "source": [
        "# Square each number\n",
        "squared = map(lambda x: x**2, numbers)\n",
        "print(list(squared))\n"
      ],
      "metadata": {
        "colab": {
          "base_uri": "https://localhost:8080/"
        },
        "id": "Ym4xBafNAzxk",
        "outputId": "fac78d15-6a20-4fb7-d874-836d0bcdeac4"
      },
      "execution_count": null,
      "outputs": [
        {
          "output_type": "stream",
          "name": "stdout",
          "text": [
            "[1, 4, 9, 16, 25]\n"
          ]
        }
      ]
    },
    {
      "cell_type": "markdown",
      "source": [
        "**EXAMPLE 2:FILTER()**"
      ],
      "metadata": {
        "id": "TVmDuCkmBFtq"
      }
    },
    {
      "cell_type": "code",
      "source": [
        "numbers = [1, 2, 3, 4, 5]\n",
        "# Keep numbers greater than 2\n",
        "filtered = filter(lambda x: x > 2, numbers)\n",
        "print(list(filtered))"
      ],
      "metadata": {
        "colab": {
          "base_uri": "https://localhost:8080/"
        },
        "id": "-zcdlSj_BL5d",
        "outputId": "5bca094a-7535-4723-ebfc-63ff583ae3aa"
      },
      "execution_count": null,
      "outputs": [
        {
          "output_type": "stream",
          "name": "stdout",
          "text": [
            "[3, 4, 5]\n"
          ]
        }
      ]
    },
    {
      "cell_type": "markdown",
      "source": [
        "Q11. Using pen & Paper write the internal mechanism for sum operation using  reduce function on this given\n",
        "list:[47,11,42,13]?\n",
        "\n",
        "- from functools import reduce\n",
        "\n",
        "nums = [47, 11, 42, 13]\n",
        "result = reduce(lambda x, y: x + y, nums)\n",
        "print(result)\n",
        "\n",
        "**INTERNAL MECHANISM (STEP BY STEP)**\n",
        "\n",
        "1.\tTake the first two elements → apply the function.\n",
        "2.\tTake the result and the next element → apply the function again.\n",
        "3.\tContinue until one value is\n",
        "\n",
        "**For the given list [47, 11, 42, 13]**:\n",
        "\n",
        "\t1.\tStep 1: x = 47, y = 11 → 47 + 11 = 58\n",
        "\t2.\tStep 2: x = 58, y = 42 → 58 + 42 = 100\n",
        "\t3.\tStep 3: x = 100, y = 13 → 100 + 13 = 113"
      ],
      "metadata": {
        "id": "6pdWoJUzBWdP"
      }
    },
    {
      "cell_type": "code",
      "source": [
        "from google.colab import files\n",
        "from IPython.display import Image"
      ],
      "metadata": {
        "id": "hqb_p5oMTu-Z"
      },
      "execution_count": 11,
      "outputs": []
    },
    {
      "cell_type": "code",
      "source": [
        "uploaded = files.upload()"
      ],
      "metadata": {
        "colab": {
          "base_uri": "https://localhost:8080/",
          "height": 73
        },
        "id": "i02onK6kUhpk",
        "outputId": "184e34db-270c-444e-f228-c58ecc324bed"
      },
      "execution_count": 12,
      "outputs": [
        {
          "output_type": "display_data",
          "data": {
            "text/plain": [
              "<IPython.core.display.HTML object>"
            ],
            "text/html": [
              "\n",
              "     <input type=\"file\" id=\"files-33a4723d-9f54-44c1-9e59-08db5cd58e72\" name=\"files[]\" multiple disabled\n",
              "        style=\"border:none\" />\n",
              "     <output id=\"result-33a4723d-9f54-44c1-9e59-08db5cd58e72\">\n",
              "      Upload widget is only available when the cell has been executed in the\n",
              "      current browser session. Please rerun this cell to enable.\n",
              "      </output>\n",
              "      <script>// Copyright 2017 Google LLC\n",
              "//\n",
              "// Licensed under the Apache License, Version 2.0 (the \"License\");\n",
              "// you may not use this file except in compliance with the License.\n",
              "// You may obtain a copy of the License at\n",
              "//\n",
              "//      http://www.apache.org/licenses/LICENSE-2.0\n",
              "//\n",
              "// Unless required by applicable law or agreed to in writing, software\n",
              "// distributed under the License is distributed on an \"AS IS\" BASIS,\n",
              "// WITHOUT WARRANTIES OR CONDITIONS OF ANY KIND, either express or implied.\n",
              "// See the License for the specific language governing permissions and\n",
              "// limitations under the License.\n",
              "\n",
              "/**\n",
              " * @fileoverview Helpers for google.colab Python module.\n",
              " */\n",
              "(function(scope) {\n",
              "function span(text, styleAttributes = {}) {\n",
              "  const element = document.createElement('span');\n",
              "  element.textContent = text;\n",
              "  for (const key of Object.keys(styleAttributes)) {\n",
              "    element.style[key] = styleAttributes[key];\n",
              "  }\n",
              "  return element;\n",
              "}\n",
              "\n",
              "// Max number of bytes which will be uploaded at a time.\n",
              "const MAX_PAYLOAD_SIZE = 100 * 1024;\n",
              "\n",
              "function _uploadFiles(inputId, outputId) {\n",
              "  const steps = uploadFilesStep(inputId, outputId);\n",
              "  const outputElement = document.getElementById(outputId);\n",
              "  // Cache steps on the outputElement to make it available for the next call\n",
              "  // to uploadFilesContinue from Python.\n",
              "  outputElement.steps = steps;\n",
              "\n",
              "  return _uploadFilesContinue(outputId);\n",
              "}\n",
              "\n",
              "// This is roughly an async generator (not supported in the browser yet),\n",
              "// where there are multiple asynchronous steps and the Python side is going\n",
              "// to poll for completion of each step.\n",
              "// This uses a Promise to block the python side on completion of each step,\n",
              "// then passes the result of the previous step as the input to the next step.\n",
              "function _uploadFilesContinue(outputId) {\n",
              "  const outputElement = document.getElementById(outputId);\n",
              "  const steps = outputElement.steps;\n",
              "\n",
              "  const next = steps.next(outputElement.lastPromiseValue);\n",
              "  return Promise.resolve(next.value.promise).then((value) => {\n",
              "    // Cache the last promise value to make it available to the next\n",
              "    // step of the generator.\n",
              "    outputElement.lastPromiseValue = value;\n",
              "    return next.value.response;\n",
              "  });\n",
              "}\n",
              "\n",
              "/**\n",
              " * Generator function which is called between each async step of the upload\n",
              " * process.\n",
              " * @param {string} inputId Element ID of the input file picker element.\n",
              " * @param {string} outputId Element ID of the output display.\n",
              " * @return {!Iterable<!Object>} Iterable of next steps.\n",
              " */\n",
              "function* uploadFilesStep(inputId, outputId) {\n",
              "  const inputElement = document.getElementById(inputId);\n",
              "  inputElement.disabled = false;\n",
              "\n",
              "  const outputElement = document.getElementById(outputId);\n",
              "  outputElement.innerHTML = '';\n",
              "\n",
              "  const pickedPromise = new Promise((resolve) => {\n",
              "    inputElement.addEventListener('change', (e) => {\n",
              "      resolve(e.target.files);\n",
              "    });\n",
              "  });\n",
              "\n",
              "  const cancel = document.createElement('button');\n",
              "  inputElement.parentElement.appendChild(cancel);\n",
              "  cancel.textContent = 'Cancel upload';\n",
              "  const cancelPromise = new Promise((resolve) => {\n",
              "    cancel.onclick = () => {\n",
              "      resolve(null);\n",
              "    };\n",
              "  });\n",
              "\n",
              "  // Wait for the user to pick the files.\n",
              "  const files = yield {\n",
              "    promise: Promise.race([pickedPromise, cancelPromise]),\n",
              "    response: {\n",
              "      action: 'starting',\n",
              "    }\n",
              "  };\n",
              "\n",
              "  cancel.remove();\n",
              "\n",
              "  // Disable the input element since further picks are not allowed.\n",
              "  inputElement.disabled = true;\n",
              "\n",
              "  if (!files) {\n",
              "    return {\n",
              "      response: {\n",
              "        action: 'complete',\n",
              "      }\n",
              "    };\n",
              "  }\n",
              "\n",
              "  for (const file of files) {\n",
              "    const li = document.createElement('li');\n",
              "    li.append(span(file.name, {fontWeight: 'bold'}));\n",
              "    li.append(span(\n",
              "        `(${file.type || 'n/a'}) - ${file.size} bytes, ` +\n",
              "        `last modified: ${\n",
              "            file.lastModifiedDate ? file.lastModifiedDate.toLocaleDateString() :\n",
              "                                    'n/a'} - `));\n",
              "    const percent = span('0% done');\n",
              "    li.appendChild(percent);\n",
              "\n",
              "    outputElement.appendChild(li);\n",
              "\n",
              "    const fileDataPromise = new Promise((resolve) => {\n",
              "      const reader = new FileReader();\n",
              "      reader.onload = (e) => {\n",
              "        resolve(e.target.result);\n",
              "      };\n",
              "      reader.readAsArrayBuffer(file);\n",
              "    });\n",
              "    // Wait for the data to be ready.\n",
              "    let fileData = yield {\n",
              "      promise: fileDataPromise,\n",
              "      response: {\n",
              "        action: 'continue',\n",
              "      }\n",
              "    };\n",
              "\n",
              "    // Use a chunked sending to avoid message size limits. See b/62115660.\n",
              "    let position = 0;\n",
              "    do {\n",
              "      const length = Math.min(fileData.byteLength - position, MAX_PAYLOAD_SIZE);\n",
              "      const chunk = new Uint8Array(fileData, position, length);\n",
              "      position += length;\n",
              "\n",
              "      const base64 = btoa(String.fromCharCode.apply(null, chunk));\n",
              "      yield {\n",
              "        response: {\n",
              "          action: 'append',\n",
              "          file: file.name,\n",
              "          data: base64,\n",
              "        },\n",
              "      };\n",
              "\n",
              "      let percentDone = fileData.byteLength === 0 ?\n",
              "          100 :\n",
              "          Math.round((position / fileData.byteLength) * 100);\n",
              "      percent.textContent = `${percentDone}% done`;\n",
              "\n",
              "    } while (position < fileData.byteLength);\n",
              "  }\n",
              "\n",
              "  // All done.\n",
              "  yield {\n",
              "    response: {\n",
              "      action: 'complete',\n",
              "    }\n",
              "  };\n",
              "}\n",
              "\n",
              "scope.google = scope.google || {};\n",
              "scope.google.colab = scope.google.colab || {};\n",
              "scope.google.colab._files = {\n",
              "  _uploadFiles,\n",
              "  _uploadFilesContinue,\n",
              "};\n",
              "})(self);\n",
              "</script> "
            ]
          },
          "metadata": {}
        },
        {
          "output_type": "stream",
          "name": "stdout",
          "text": [
            "Saving Reduce example.jpg to Reduce example.jpg\n"
          ]
        }
      ]
    },
    {
      "cell_type": "code",
      "source": [
        "Image('Reduce example.jpg')"
      ],
      "metadata": {
        "colab": {
          "base_uri": "https://localhost:8080/",
          "height": 1000
        },
        "id": "QBJ-dquqUrSO",
        "outputId": "f4bdef1d-fae4-479e-b5fb-163137b4fe79"
      },
      "execution_count": 13,
      "outputs": [
        {
          "output_type": "execute_result",
          "data": {
            "image/jpeg": "[encoded data removed]",
            "text/plain": [
              "<IPython.core.display.Image object>"
            ]
          },
          "metadata": {},
          "execution_count": 13
        }
      ]
    },
    {
      "cell_type": "markdown",
      "source": [
        "# PRATICAL\n"
      ],
      "metadata": {
        "id": "iRAlsf1qDMqx"
      }
    },
    {
      "cell_type": "code",
      "source": [
        "1 #  Write a Python function that takes a list of numbers as input and returns the sum of all even numbers in\n",
        "# the list.?\n",
        "\n",
        "def sum_of_evens(nums) :\n",
        "  return sum(n for n in nums if n % 2 == 0)\n",
        "print(sum_of_evens([1, 2, 3, 4, 5, 6, 7, 8]))"
      ],
      "metadata": {
        "colab": {
          "base_uri": "https://localhost:8080/"
        },
        "id": "MefQACiwEUAS",
        "outputId": "73a62913-14e7-4e82-8fba-723afc76604a"
      },
      "execution_count": null,
      "outputs": [
        {
          "output_type": "stream",
          "name": "stdout",
          "text": [
            "20\n"
          ]
        }
      ]
    },
    {
      "cell_type": "code",
      "source": [
        "2 # Create a Python function that accepts a string and returns the reverse of that string."
      ],
      "metadata": {
        "id": "CxLA1N6pE-xm"
      },
      "execution_count": null,
      "outputs": []
    },
    {
      "cell_type": "code",
      "metadata": {
        "colab": {
          "base_uri": "https://localhost:8080/"
        },
        "id": "b739b595",
        "outputId": "a38f9493-3249-446d-e3fd-47c8ae716fd3"
      },
      "source": [
        "def reverse_string(input_string):\n",
        "  \"\"\"\n",
        "  Reverses a given string.\n",
        "\n",
        "  Args:\n",
        "    input_string: The string to be reversed.\n",
        "\n",
        "  Returns:\n",
        "    The reversed string.\n",
        "  \"\"\"\n",
        "  return input_string[::-1]\n",
        "\n",
        "# Example usage:\n",
        "my_string = \"Hello, Colab!\"\n",
        "reversed_string = reverse_string(my_string)\n",
        "print(f\"The original string is: {my_string}\")\n",
        "print(f\"The reversed string is: {reversed_string}\")\n",
        "\n",
        "another_string = \"Python\"\n",
        "reversed_another_string = reverse_string(another_string)\n",
        "print(f\"The original string is: {another_string}\")\n",
        "print(f\"The reversed string is: {reversed_another_string}\")"
      ],
      "execution_count": null,
      "outputs": [
        {
          "output_type": "stream",
          "name": "stdout",
          "text": [
            "The original string is: Hello, Colab!\n",
            "The reversed string is: !baloC ,olleH\n",
            "The original string is: Python\n",
            "The reversed string is: nohtyP\n"
          ]
        }
      ]
    },
    {
      "cell_type": "code",
      "source": [
        "3. # Implement a Python function that takes a list of integers and returns a new list containing the squares of\n",
        "# each number.?\n",
        "\n",
        "def square_list(numbers):\n",
        "  return [num ** 2 for num in numbers]\n",
        "print(square_list([1, 2, 3, 4, 5]))"
      ],
      "metadata": {
        "colab": {
          "base_uri": "https://localhost:8080/"
        },
        "id": "TpMoZzLMFuFQ",
        "outputId": "4d31c72d-df25-406e-eeef-77c90e6cd80d"
      },
      "execution_count": null,
      "outputs": [
        {
          "output_type": "stream",
          "name": "stdout",
          "text": [
            "[1, 4, 9, 16, 25]\n"
          ]
        }
      ]
    },
    {
      "cell_type": "code",
      "source": [
        "4. # Write a Python function that checks if a given number is prime or not from 1 to 200.?\n",
        "\n",
        "def is_prime(num):\n",
        "  if num < 2:\n",
        "    return False\n",
        "  for i in range(2, num):\n",
        "    if num % i == 0:\n",
        "      return False\n",
        "  return True\n",
        "\n",
        "def prime_numbers_upto_200():\n",
        "  primes = []\n",
        "  for n in range(1, 201):\n",
        "    if is_prime(n):\n",
        "      primes.append(n)\n",
        "  return primes\n",
        "\n",
        "print(prime_numbers_upto_200())"
      ],
      "metadata": {
        "colab": {
          "base_uri": "https://localhost:8080/"
        },
        "id": "LaUkJIbfGAK8",
        "outputId": "0381d96c-3f44-4515-c482-9b233f5112ad"
      },
      "execution_count": null,
      "outputs": [
        {
          "output_type": "stream",
          "name": "stdout",
          "text": [
            "[2, 3, 5, 7, 11, 13, 17, 19, 23, 29, 31, 37, 41, 43, 47, 53, 59, 61, 67, 71, 73, 79, 83, 89, 97, 101, 103, 107, 109, 113, 127, 131, 137, 139, 149, 151, 157, 163, 167, 173, 179, 181, 191, 193, 197, 199]\n"
          ]
        }
      ]
    },
    {
      "cell_type": "code",
      "source": [
        "5. # Create an iterator class in Python that generates the Fibonacci sequence up to a specified number of terms?\n",
        "class FibonacciIterator:\n",
        "  def __init__(self, n_terms):\n",
        "    self.n_terms = n_terms\n",
        "    # total terms required\n",
        "    self.count = 0\n",
        "    # counter\n",
        "    self.a, self.b = 0, 1 # starting values\n",
        "  def __iter__(self):\n",
        "    return self\n",
        "  def __next__(self):\n",
        "    if self.count < self.n_terms:\n",
        "      value = self.a\n",
        "      self.a, self.b = self.b, self.a + self.b\n",
        "      self.count += 1\n",
        "      return value\n",
        "    else:\n",
        "      raise StopIteration\n",
        "\n",
        "fib = FibonacciIterator(10)\n",
        "# generate first 10 terms\n",
        "for num in fib:\n",
        "  print(num, end=\" \")"
      ],
      "metadata": {
        "colab": {
          "base_uri": "https://localhost:8080/"
        },
        "id": "GBXX-smlGkU1",
        "outputId": "c6f55022-8f42-4f9e-8124-5f6d0bfaa437"
      },
      "execution_count": null,
      "outputs": [
        {
          "output_type": "stream",
          "name": "stdout",
          "text": [
            "0 1 1 2 3 5 8 13 21 34 "
          ]
        }
      ]
    },
    {
      "cell_type": "code",
      "source": [
        "6. #  Write a generator function in Python that yields the powers of 2 up to a given exponent?\n",
        "\n",
        "def powers_of_two(n):\n",
        "  for i in range(n + 1):\n",
        "    yield 2 ** i\n",
        "\n",
        "for num in powers_of_two(5):\n",
        "  print(num, end=\" \")"
      ],
      "metadata": {
        "colab": {
          "base_uri": "https://localhost:8080/"
        },
        "id": "YiR1LdMvG_d7",
        "outputId": "1d4b6df4-a24e-468c-8c5c-dc8af30e9813"
      },
      "execution_count": null,
      "outputs": [
        {
          "output_type": "stream",
          "name": "stdout",
          "text": [
            "1 2 4 8 16 32 "
          ]
        }
      ]
    },
    {
      "cell_type": "code",
      "source": [
        "7. #  Implement a generator function that reads a file line by line and yields each line as a string.\n",
        "# Step 1: Create a sample file\n",
        "with open(\"sample.txt\", \"w\") as f:\n",
        "  f.write(\"Hello\\n\")\n",
        "  f.write(\"This is Ritesh\\n\")\n",
        "  f.write(\"Learning Python\\n\")\n",
        "\n",
        "# Step 2: Generator function to read file line by line\n",
        "def read_file_line_by_line(filename):\n",
        "  with open(filename, \"r\") as file:\n",
        "    for line in file:\n",
        "      yield line.strip() # strip() removes \\n at the end\n",
        "\n",
        "# Step 3: Use the generator\n",
        "for line in read_file_line_by_line(\"sample.txt\"):\n",
        "  print(line)"
      ],
      "metadata": {
        "colab": {
          "base_uri": "https://localhost:8080/"
        },
        "id": "UdH3rQgoHZp3",
        "outputId": "aae491b2-c00f-47de-b0ef-1096c0dfa2f5"
      },
      "execution_count": null,
      "outputs": [
        {
          "output_type": "stream",
          "name": "stdout",
          "text": [
            "Hello\n",
            "This is Ritesh\n",
            "Learning Python\n"
          ]
        }
      ]
    },
    {
      "cell_type": "code",
      "source": [
        "8. # Use a lambda function in Python to sort a list of tuples based on the second element of each tuple?\n",
        "def sort_tuples_by_second(tuples_list):\n",
        "  return sorted(tuples_list, key=lambda x: x[1])\n",
        "\n",
        "data = [(1, 5), (3, 1), (4, 7), (2, 3)]\n",
        "result = sort_tuples_by_second(data)\n",
        "print(result)"
      ],
      "metadata": {
        "colab": {
          "base_uri": "https://localhost:8080/"
        },
        "id": "WQdtGCgDICSt",
        "outputId": "895c265d-6ff6-4bb7-a685-5be6ea86a390"
      },
      "execution_count": null,
      "outputs": [
        {
          "output_type": "stream",
          "name": "stdout",
          "text": [
            "[(3, 1), (2, 3), (1, 5), (4, 7)]\n"
          ]
        }
      ]
    },
    {
      "cell_type": "code",
      "source": [
        "9. # Write a Python program that uses `map()` to convert a list of temperatures from Celsius to Fahrenheit.?\n",
        "# Function to convert Celsius to Fahrenheit\n",
        "def celsius_to_fahrenheit(celsius):\n",
        "  return (celsius * 9/5) + 32\n",
        "# List of temperatures in Celsius\n",
        "celsius_list = [0, 20, 37, 100]\n",
        "# Using map() to convert all temperatures\n",
        "fahrenheit_list = list(map(celsius_to_fahrenheit, celsius_list))\n",
        "print(\"Celsius:\", celsius_list)\n",
        "print(\"Fahrenheit:\", fahrenheit_list)"
      ],
      "metadata": {
        "colab": {
          "base_uri": "https://localhost:8080/"
        },
        "id": "9HSdEnD4IaO6",
        "outputId": "6c50f4dd-b16c-48f4-ca6c-940428476b9e"
      },
      "execution_count": null,
      "outputs": [
        {
          "output_type": "stream",
          "name": "stdout",
          "text": [
            "Celsius: [0, 20, 37, 100]\n",
            "Fahrenheit: [32.0, 68.0, 98.6, 212.0]\n"
          ]
        }
      ]
    },
    {
      "cell_type": "code",
      "source": [
        "10. # Create a Python program that uses `filter()` to remove all the vowels from a given string.\n",
        "# Function to check if a character is NOT a vowel\n",
        "def is_not_vowel(ch):\n",
        "  vowels = \"aeiouAEIOU\"\n",
        "  return ch not in vowels\n",
        "#Input string\n",
        "text = \"Hello, This is Ritesh\"\n",
        "# Using filter() to remove vowels\n",
        "result = ''.join(filter(is_not_vowel, text))\n",
        "print(\"Original String:\", text)\n",
        "print(\"After Removing Vowels:\", result)"
      ],
      "metadata": {
        "colab": {
          "base_uri": "https://localhost:8080/"
        },
        "id": "dFtPen6YI6U5",
        "outputId": "7ebadc9f-b028-4f4e-815f-1818ed466ea3"
      },
      "execution_count": null,
      "outputs": [
        {
          "output_type": "stream",
          "name": "stdout",
          "text": [
            "Original String: Hello, This is Ritesh\n",
            "After Removing Vowels: Hll, Ths s Rtsh\n"
          ]
        }
      ]
    },
    {
      "cell_type": "code",
      "source": [
        "# Imagine an accounting routine used in a book shop. It works on a list with sublists, which look like this:\n",
        "\n",
        "# Order Number   |  Book Title and Author               | Quantity | Price per Item\n",
        "# 34587          |  Learning Python, Mark Lutz          |    4     |     40.95\n",
        "# 98762          |  Programming Python, Mark Lutz       |    5     |     56.80\n",
        "# 77226          |  Head First Python, Paul Barry       |    3     |     32.95\n",
        "# 88112          |  Einführung in Python3, Bernd Klein  |    3     |     24.99\n",
        "\n",
        "# Write a Python program, which returns a list with 2-tuples. Each tuple consists of the order number and the\n",
        "# product of the price per item and the quantity. The product should be increased by 10,- € if the value of the\n",
        "# order is smaller than 100,00 €.\n",
        "\n",
        "# Write a Python program using lambda and map?\n",
        "\n",
        "# Accounting routine with lambda and map\n",
        "orders = [\n",
        "[34587, \"Learning Python, Mark Lutz\", 4, 40.95],\n",
        "[98762, \"Programming Python, Mark Lutz\", 5, 56.80],\n",
        "[77226, \"Head First Python, Paul Barry\", 3, 32.95],\n",
        "[88112, \"Einführung in Python3, Bernd Klein\", 3, 24.99]\n",
        "]\n",
        "# Using lambda + map\n",
        "result = list(map(lambda order: (order[0], order[2] * order[3] + (10 if order[2] * order[3] < 100 else 0)), orders))\n",
        "print(result)"
      ],
      "metadata": {
        "colab": {
          "base_uri": "https://localhost:8080/"
        },
        "id": "e8uS5muEJ1ce",
        "outputId": "e4acc8eb-1c60-4aeb-fbd9-602bfe1cedbe"
      },
      "execution_count": null,
      "outputs": [
        {
          "output_type": "stream",
          "name": "stdout",
          "text": [
            "[(34587, 163.8), (98762, 284.0), (77226, 108.85000000000001), (88112, 84.97)]\n"
          ]
        }
      ]
    }
  ]
}